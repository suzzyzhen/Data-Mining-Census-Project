{
 "cells": [
  {
   "cell_type": "code",
   "execution_count": 76,
   "metadata": {},
   "outputs": [],
   "source": [
    "import pandas as pd\n",
    "import matplotlib.pyplot as plt\n",
    "import numpy as np\n",
    "\n",
    "\n",
    "\n",
    "#add headers \n",
    "feature_names = ['age','workclass','fnlwgt','education','education_num','marital_status','occupation','relationship','race','sex','capital_gain','capital_loss','hours_per_week','native_country','50k']\n",
    "\n",
    "train_df_nan = pd.read_csv('/Users/suzannezhen/Documents/Data Mining /Project/census-income.data.csv .csv', names = feature_names) \n",
    "test_df_nan = pd.read_csv('/Users/suzannezhen/Documents/Data Mining /Project/census-income.test.csv .csv', names = feature_names)\n"
   ]
  },
  {
   "cell_type": "code",
   "execution_count": 77,
   "metadata": {},
   "outputs": [
    {
     "name": "stdout",
     "output_type": "stream",
     "text": [
      "The total number of instances in train data is 32561 with features 15\n",
      "The total number of instances in test data is 16281 with features 15\n"
     ]
    }
   ],
   "source": [
    "print('The total number of instances in train data is', len(train_df_nan), 'with features', len(train_df_nan.columns))\n",
    "print('The total number of instances in test data is', len(test_df_nan), 'with features', len(test_df_nan.columns))"
   ]
  },
  {
   "cell_type": "code",
   "execution_count": 78,
   "metadata": {},
   "outputs": [
    {
     "name": "stdout",
     "output_type": "stream",
     "text": [
      "0    24720\n",
      "1     7841\n",
      "Name: 50k, dtype: int64\n",
      "***less than 50k 0.759 ***More than 50k 0.241\n",
      "0    12435\n",
      "1     3846\n",
      "Name: 50k, dtype: int64\n",
      "***less than 50k 0.764 ***More than 50k 0.236\n"
     ]
    }
   ],
   "source": [
    "# replace '?' with nan values \n",
    "train_df_nan.replace(' ?', np.nan, inplace=True)\n",
    "test_df_nan.replace(' ?', np.nan, inplace=True)\n",
    "\n",
    "#replace the label column with '0' and '1', <=50k = 0; >50k = 1\n",
    "train_df_nan['50k'] = pd.get_dummies(train_df_nan).iloc[:,-1]\n",
    "test_df_nan['50k'] = pd.get_dummies(test_df_nan).iloc[:,-1]\n",
    "\n",
    "counts_train = train_df_nan['50k'].value_counts()\n",
    "counts_test = test_df_nan['50k'].value_counts()\n",
    "\n",
    "print(counts_train)\n",
    "print('***less than 50k',round(counts_train[0]/len(train_df_nan['50k']),3), '***More than 50k', round(counts_train[1]/len(train_df_nan['50k']),3))\n",
    "print(counts_test)\n",
    "print('***less than 50k',round(counts_test[0]/len(test_df_nan['50k']),3), '***More than 50k', round(counts_test[1]/len(test_df_nan['50k']),3))\n",
    "\n",
    "\n",
    "#print(train_df_nan.head(50))\n",
    "#print(test_df_nan.head(50))"
   ]
  },
  {
   "cell_type": "code",
   "execution_count": 79,
   "metadata": {
    "scrolled": true
   },
   "outputs": [
    {
     "name": "stdout",
     "output_type": "stream",
     "text": [
      "2399 train instances contain missing values\n",
      "age                  0\n",
      "workclass         1836\n",
      "fnlwgt               0\n",
      "education            0\n",
      "education_num        0\n",
      "marital_status       0\n",
      "occupation        1843\n",
      "relationship         0\n",
      "race                 0\n",
      "sex                  0\n",
      "capital_gain         0\n",
      "capital_loss         0\n",
      "hours_per_week       0\n",
      "native_country     583\n",
      "50k                  0\n",
      "dtype: int64\n",
      "1221 test instances contain missing values\n",
      "age                 0\n",
      "workclass         963\n",
      "fnlwgt              0\n",
      "education           0\n",
      "education_num       0\n",
      "marital_status      0\n",
      "occupation        966\n",
      "relationship        0\n",
      "race                0\n",
      "sex                 0\n",
      "capital_gain        0\n",
      "capital_loss        0\n",
      "hours_per_week      0\n",
      "native_country    274\n",
      "50k                 0\n",
      "dtype: int64\n"
     ]
    }
   ],
   "source": [
    "#count instances with nan values\n",
    "train_df = train_df_nan.dropna()\n",
    "print(len(train_df_nan) - len(train_df), 'train instances contain missing values')\n",
    "print(train_df_nan.isnull().sum())\n",
    "\n",
    "test_df = test_df_nan.dropna()\n",
    "print(len(test_df_nan) - len(test_df), 'test instances contain missing values')\n",
    "print(test_df_nan.isnull().sum())"
   ]
  },
  {
   "cell_type": "code",
   "execution_count": 80,
   "metadata": {},
   "outputs": [
    {
     "data": {
      "text/html": [
       "<div>\n",
       "<style scoped>\n",
       "    .dataframe tbody tr th:only-of-type {\n",
       "        vertical-align: middle;\n",
       "    }\n",
       "\n",
       "    .dataframe tbody tr th {\n",
       "        vertical-align: top;\n",
       "    }\n",
       "\n",
       "    .dataframe thead th {\n",
       "        text-align: right;\n",
       "    }\n",
       "</style>\n",
       "<table border=\"1\" class=\"dataframe\">\n",
       "  <thead>\n",
       "    <tr style=\"text-align: right;\">\n",
       "      <th></th>\n",
       "      <th>age</th>\n",
       "      <th>workclass</th>\n",
       "      <th>fnlwgt</th>\n",
       "      <th>education</th>\n",
       "      <th>education_num</th>\n",
       "      <th>marital_status</th>\n",
       "      <th>occupation</th>\n",
       "      <th>relationship</th>\n",
       "      <th>race</th>\n",
       "      <th>sex</th>\n",
       "      <th>capital_gain</th>\n",
       "      <th>capital_loss</th>\n",
       "      <th>hours_per_week</th>\n",
       "      <th>native_country</th>\n",
       "      <th>50k</th>\n",
       "    </tr>\n",
       "  </thead>\n",
       "  <tbody>\n",
       "    <tr>\n",
       "      <td>0</td>\n",
       "      <td>39</td>\n",
       "      <td>State-gov</td>\n",
       "      <td>77516</td>\n",
       "      <td>Bachelors</td>\n",
       "      <td>13</td>\n",
       "      <td>Never-married</td>\n",
       "      <td>Adm-clerical</td>\n",
       "      <td>Not-in-family</td>\n",
       "      <td>White</td>\n",
       "      <td>Male</td>\n",
       "      <td>2174</td>\n",
       "      <td>0</td>\n",
       "      <td>40</td>\n",
       "      <td>United-States</td>\n",
       "      <td>0</td>\n",
       "    </tr>\n",
       "    <tr>\n",
       "      <td>1</td>\n",
       "      <td>50</td>\n",
       "      <td>Self-emp-not-inc</td>\n",
       "      <td>83311</td>\n",
       "      <td>Bachelors</td>\n",
       "      <td>13</td>\n",
       "      <td>Married-civ-spouse</td>\n",
       "      <td>Exec-managerial</td>\n",
       "      <td>Husband</td>\n",
       "      <td>White</td>\n",
       "      <td>Male</td>\n",
       "      <td>0</td>\n",
       "      <td>0</td>\n",
       "      <td>13</td>\n",
       "      <td>United-States</td>\n",
       "      <td>0</td>\n",
       "    </tr>\n",
       "    <tr>\n",
       "      <td>2</td>\n",
       "      <td>38</td>\n",
       "      <td>Private</td>\n",
       "      <td>215646</td>\n",
       "      <td>HS-grad</td>\n",
       "      <td>9</td>\n",
       "      <td>Divorced</td>\n",
       "      <td>Handlers-cleaners</td>\n",
       "      <td>Not-in-family</td>\n",
       "      <td>White</td>\n",
       "      <td>Male</td>\n",
       "      <td>0</td>\n",
       "      <td>0</td>\n",
       "      <td>40</td>\n",
       "      <td>United-States</td>\n",
       "      <td>0</td>\n",
       "    </tr>\n",
       "    <tr>\n",
       "      <td>3</td>\n",
       "      <td>53</td>\n",
       "      <td>Private</td>\n",
       "      <td>234721</td>\n",
       "      <td>11th</td>\n",
       "      <td>7</td>\n",
       "      <td>Married-civ-spouse</td>\n",
       "      <td>Handlers-cleaners</td>\n",
       "      <td>Husband</td>\n",
       "      <td>Black</td>\n",
       "      <td>Male</td>\n",
       "      <td>0</td>\n",
       "      <td>0</td>\n",
       "      <td>40</td>\n",
       "      <td>United-States</td>\n",
       "      <td>0</td>\n",
       "    </tr>\n",
       "    <tr>\n",
       "      <td>4</td>\n",
       "      <td>28</td>\n",
       "      <td>Private</td>\n",
       "      <td>338409</td>\n",
       "      <td>Bachelors</td>\n",
       "      <td>13</td>\n",
       "      <td>Married-civ-spouse</td>\n",
       "      <td>Prof-specialty</td>\n",
       "      <td>Wife</td>\n",
       "      <td>Black</td>\n",
       "      <td>Female</td>\n",
       "      <td>0</td>\n",
       "      <td>0</td>\n",
       "      <td>40</td>\n",
       "      <td>Cuba</td>\n",
       "      <td>0</td>\n",
       "    </tr>\n",
       "  </tbody>\n",
       "</table>\n",
       "</div>"
      ],
      "text/plain": [
       "   age          workclass  fnlwgt   education  education_num  \\\n",
       "0   39          State-gov   77516   Bachelors             13   \n",
       "1   50   Self-emp-not-inc   83311   Bachelors             13   \n",
       "2   38            Private  215646     HS-grad              9   \n",
       "3   53            Private  234721        11th              7   \n",
       "4   28            Private  338409   Bachelors             13   \n",
       "\n",
       "        marital_status          occupation    relationship    race      sex  \\\n",
       "0        Never-married        Adm-clerical   Not-in-family   White     Male   \n",
       "1   Married-civ-spouse     Exec-managerial         Husband   White     Male   \n",
       "2             Divorced   Handlers-cleaners   Not-in-family   White     Male   \n",
       "3   Married-civ-spouse   Handlers-cleaners         Husband   Black     Male   \n",
       "4   Married-civ-spouse      Prof-specialty            Wife   Black   Female   \n",
       "\n",
       "   capital_gain  capital_loss  hours_per_week  native_country  50k  \n",
       "0          2174             0              40   United-States    0  \n",
       "1             0             0              13   United-States    0  \n",
       "2             0             0              40   United-States    0  \n",
       "3             0             0              40   United-States    0  \n",
       "4             0             0              40            Cuba    0  "
      ]
     },
     "execution_count": 80,
     "metadata": {},
     "output_type": "execute_result"
    }
   ],
   "source": [
    "train_df_nan.head()"
   ]
  },
  {
   "cell_type": "code",
   "execution_count": 81,
   "metadata": {},
   "outputs": [
    {
     "data": {
      "text/plain": [
       " Prof-specialty       4140\n",
       " Craft-repair         4099\n",
       " Exec-managerial      4066\n",
       " Adm-clerical         3770\n",
       " Sales                3650\n",
       " Other-service        3295\n",
       " Machine-op-inspct    2002\n",
       " Transport-moving     1597\n",
       " Handlers-cleaners    1370\n",
       " Farming-fishing       994\n",
       " Tech-support          928\n",
       " Protective-serv       649\n",
       " Priv-house-serv       149\n",
       " Armed-Forces            9\n",
       "Name: occupation, dtype: int64"
      ]
     },
     "execution_count": 81,
     "metadata": {},
     "output_type": "execute_result"
    }
   ],
   "source": [
    "train_df_nan['occupation'].value_counts()"
   ]
  },
  {
   "cell_type": "code",
   "execution_count": 82,
   "metadata": {},
   "outputs": [],
   "source": [
    "#use mode or KNN to fill missing values (pick two to three methods)\n",
    "\n",
    "#fillna with mode \n",
    "\n",
    "#print(train_df_nan['workclass'].value_counts(dropna=False).head())\n",
    "#print(train_df_nan['occupation'].value_counts(dropna=False).head())\n",
    "#print(train_df_nan['native_country'].value_counts(dropna=False).head())\n",
    "\n",
    "train_df_nan['workclass'].fillna(train_df_nan['workclass'].mode()[0],inplace=True)\n",
    "train_df_nan['occupation'].fillna(value ='Other-service', inplace=True)      #replace NaN occupation with other services\n",
    "train_df_nan['native_country'].fillna(train_df_nan['native_country'].mode()[0],inplace=True)\n",
    "\n",
    "#print('*'*100, train_df_nan.isnull().sum())\n",
    "\n",
    "\n",
    "#print(test_df_nan['workclass'].value_counts(dropna=False).head())\n",
    "#print(test_df_nan['occupation'].value_counts(dropna=False).head(10))\n",
    "#print(test_df_nan['native_country'].value_counts(dropna=False).head())\n",
    "\n",
    "\n",
    "test_df_nan['workclass'].fillna(test_df_nan['workclass'].mode()[0],inplace=True)\n",
    "test_df_nan['occupation'].fillna(value ='Other-service', inplace=True)      #replace NaN occupation with other services\n",
    "test_df_nan['native_country'].fillna(test_df_nan['native_country'].mode()[0],inplace=True)\n",
    "\n",
    "\n",
    "#print('*'*100, test_df_nan.isnull().sum())\n"
   ]
  },
  {
   "cell_type": "code",
   "execution_count": 83,
   "metadata": {},
   "outputs": [],
   "source": [
    "#transform categorical data into numeric data (encoder and one hot encoder)\n",
    "from sklearn import preprocessing\n",
    "\n",
    "pd.set_option('display.max_row', 1000)\n",
    "pd.set_option('display.max_columns', 50)\n",
    "\n",
    "file = open(\"dictionary.txt\",\"w\")\n",
    "le = preprocessing.LabelEncoder()\n"
   ]
  },
  {
   "cell_type": "code",
   "execution_count": 84,
   "metadata": {},
   "outputs": [
    {
     "data": {
      "text/plain": [
       "257"
      ]
     },
     "execution_count": 84,
     "metadata": {},
     "output_type": "execute_result"
    }
   ],
   "source": [
    "#workclass\n",
    "workclass = train_df_nan.workclass\n",
    "#workclassUNI = dataset.workclass.unique()  #check the unique elements under this column\n",
    "le.fit(workclass)\n",
    "le_workclass_mapping = dict(zip(le.classes_,le.transform(le.classes_))) #making a dictionery of label and original categorical values\n",
    "workclass_encoded = le.transform(workclass)\n",
    "repr(le_workclass_mapping)\n",
    "file.write( 'dictionary for corresponding numerical labeling of each categorical value  = ' + repr(le_workclass_mapping) + '\\n' + \"###########################\" + '\\n')\n"
   ]
  },
  {
   "cell_type": "code",
   "execution_count": 85,
   "metadata": {},
   "outputs": [
    {
     "data": {
      "text/plain": [
       "359"
      ]
     },
     "execution_count": 85,
     "metadata": {},
     "output_type": "execute_result"
    }
   ],
   "source": [
    "#education\n",
    "education = train_df_nan.education\n",
    "#educationUNI = dataset.education.unique()  #check the unique elements under this column\n",
    "le.fit(education)\n",
    "le_education_mapping = dict(zip(le.classes_,le.transform(le.classes_))) #making a dictionery of label and original categorical values\n",
    "education_encoded = le.transform(education)\n",
    "repr(le_education_mapping)\n",
    "file.write( 'dictionary for corresponding numerical labeling of each categorical value  = ' + repr(le_education_mapping) + '\\n' + \"###########################\" + '\\n')"
   ]
  },
  {
   "cell_type": "code",
   "execution_count": 86,
   "metadata": {},
   "outputs": [
    {
     "data": {
      "text/plain": [
       "255"
      ]
     },
     "execution_count": 86,
     "metadata": {},
     "output_type": "execute_result"
    }
   ],
   "source": [
    "#marital_status\n",
    "marital_status = train_df_nan.marital_status\n",
    "#marital_statusUNI = dataset.marital_status.unique()  #check the unique elements under this column\n",
    "le = preprocessing.LabelEncoder()\n",
    "le.fit(marital_status)\n",
    "le_marital_status_mapping = dict(zip(le.classes_,le.transform(le.classes_))) #making a dictionery of label and original categorical values\n",
    "marital_status_encoded = le.transform(marital_status)\n",
    "repr(le_marital_status_mapping)\n",
    "file.write( 'dictionary for corresponding numerical labeling of each categorical value  = ' + repr(le_marital_status_mapping) + '\\n' + \"###########################\" + '\\n')\n"
   ]
  },
  {
   "cell_type": "code",
   "execution_count": 87,
   "metadata": {},
   "outputs": [
    {
     "data": {
      "text/plain": [
       "433"
      ]
     },
     "execution_count": 87,
     "metadata": {},
     "output_type": "execute_result"
    }
   ],
   "source": [
    "#occupation\n",
    "occupation = train_df_nan.occupation\n",
    "#occupationUNI = dataset.occupation.unique()  #check the unique elements under this column\n",
    "le.fit(occupation)\n",
    "le_occupation_mapping = dict(zip(le.classes_,le.transform(le.classes_))) #making a dictionery of label and original categorical values\n",
    "occupation_encoded = le.transform(occupation)\n",
    "repr(le_occupation_mapping)\n",
    "file.write( 'dictionary for corresponding numerical labeling of each categorical value  = ' + repr(le_occupation_mapping) + '\\n' + \"###########################\" + '\\n')\n"
   ]
  },
  {
   "cell_type": "code",
   "execution_count": 88,
   "metadata": {},
   "outputs": [
    {
     "data": {
      "text/plain": [
       "210"
      ]
     },
     "execution_count": 88,
     "metadata": {},
     "output_type": "execute_result"
    }
   ],
   "source": [
    "#relationship\n",
    "relationship = train_df_nan.relationship\n",
    "#relationshipUNI = dataset.relationship.unique()  #check the unique elements under this column\n",
    "le.fit(relationship)\n",
    "le_relationship_mapping = dict(zip(le.classes_,le.transform(le.classes_))) #making a dictionery of label and original categorical values\n",
    "relationship_encoded = le.transform(relationship)\n",
    "repr(le_relationship_mapping)\n",
    "file.write( 'dictionary for corresponding numerical labeling of each categorical value  = ' + repr(le_relationship_mapping) + '\\n' + \"###########################\" + '\\n')\n"
   ]
  },
  {
   "cell_type": "code",
   "execution_count": 89,
   "metadata": {},
   "outputs": [
    {
     "data": {
      "text/plain": [
       "197"
      ]
     },
     "execution_count": 89,
     "metadata": {},
     "output_type": "execute_result"
    }
   ],
   "source": [
    "#race\n",
    "race = train_df_nan.race\n",
    "#raceUNI = dataset.race.unique()  #check the unique elements under this column\n",
    "le.fit(race)\n",
    "le_race_mapping = dict(zip(le.classes_,le.transform(le.classes_))) #making a dictionery of label and original categorical values\n",
    "race = le.transform(race)\n",
    "repr(le_race_mapping)\n",
    "file.write( 'dictionary for corresponding numerical labeling of each categorical value  = ' + repr(le_race_mapping) + '\\n' + \"###########################\" + '\\n')\n"
   ]
  },
  {
   "cell_type": "code",
   "execution_count": 90,
   "metadata": {},
   "outputs": [
    {
     "data": {
      "text/plain": [
       "132"
      ]
     },
     "execution_count": 90,
     "metadata": {},
     "output_type": "execute_result"
    }
   ],
   "source": [
    "#sex\n",
    "sex = train_df_nan.sex\n",
    "#sexUNI = dataset.sex.unique()  #check the unique elements under this column\n",
    "le.fit(sex)\n",
    "le_sex_mapping = dict(zip(le.classes_,le.transform(le.classes_))) #making a dictionery of label and original categorical values\n",
    "sex_encoded = le.transform(sex)\n",
    "repr(le_sex_mapping)\n",
    "file.write( 'dictionary for corresponding numerical labeling of each categorical value  = ' + repr(le_sex_mapping) + '\\n' + \"###########################\" + '\\n')\n"
   ]
  },
  {
   "cell_type": "code",
   "execution_count": 35,
   "metadata": {},
   "outputs": [
    {
     "data": {
      "text/plain": [
       "799"
      ]
     },
     "execution_count": 35,
     "metadata": {},
     "output_type": "execute_result"
    }
   ],
   "source": [
    "#native_country\n",
    "native_country = train_df_nan.native_country\n",
    "#native_countryUNI = dataset.native_country.unique()  #check the unique elements under this column\n",
    "le.fit(native_country)\n",
    "le_native_country_mapping = dict(zip(le.classes_,le.transform(le.classes_))) #making a dictionery of label and original categorical values\n",
    "native_country_encoded = le.transform(native_country)\n",
    "repr(le_native_country_mapping)\n",
    "file.write( 'dictionary for corresponding numerical labeling of each categorical value  = ' + repr(le_native_country_mapping) + '\\n' + \"###########################\" + '\\n')\n"
   ]
  },
  {
   "cell_type": "code",
   "execution_count": 36,
   "metadata": {},
   "outputs": [],
   "source": [
    "file.close()"
   ]
  },
  {
   "cell_type": "code",
   "execution_count": 43,
   "metadata": {},
   "outputs": [],
   "source": [
    "import csv\n",
    "\n",
    "column_list = [workclass_encoded, education_encoded, marital_status_encoded, occupation_encoded, relationship_encoded, race, sex_encoded, native_country_encoded]\n",
    "\n",
    "census_list = []\n",
    "\n",
    "for (workclass_1, education_1, marital_1, occupation_1, relationship_1, race_1, sex_1, native_1) in zip(workclass_encoded, education_encoded, marital_status_encoded, occupation_encoded, relationship_encoded, race, sex_encoded, native_country_encoded):\n",
    "    census_list.append((workclass_1, education_1, marital_1, occupation_1, relationship_1, race_1, sex_1, native_1))\n",
    "\n",
    "with open ('encoding.csv','w') as f:\n",
    "    thewriter = csv.writer(f, delimiter =\",\")\n",
    "    thewriter.writerow(('workclass', 'education', 'marital status', 'occupation', 'relationship', 'race', 'sex', 'native country'))\n",
    "    for row in census_list:\n",
    "        thewriter.writerow(row)"
   ]
  },
  {
   "cell_type": "code",
   "execution_count": 74,
   "metadata": {
    "scrolled": true
   },
   "outputs": [
    {
     "data": {
      "text/html": [
       "<div>\n",
       "<style scoped>\n",
       "    .dataframe tbody tr th:only-of-type {\n",
       "        vertical-align: middle;\n",
       "    }\n",
       "\n",
       "    .dataframe tbody tr th {\n",
       "        vertical-align: top;\n",
       "    }\n",
       "\n",
       "    .dataframe thead th {\n",
       "        text-align: right;\n",
       "    }\n",
       "</style>\n",
       "<table border=\"1\" class=\"dataframe\">\n",
       "  <thead>\n",
       "    <tr style=\"text-align: right;\">\n",
       "      <th></th>\n",
       "      <th>workclass</th>\n",
       "      <th>marital status</th>\n",
       "      <th>occupation</th>\n",
       "      <th>relationship</th>\n",
       "      <th>race</th>\n",
       "      <th>sex</th>\n",
       "      <th>native country</th>\n",
       "      <th>age</th>\n",
       "      <th>fnlwgt</th>\n",
       "      <th>education_num</th>\n",
       "      <th>capital_gain</th>\n",
       "      <th>capital_loss</th>\n",
       "      <th>hours_per_week</th>\n",
       "      <th>50k</th>\n",
       "    </tr>\n",
       "  </thead>\n",
       "  <tbody>\n",
       "    <tr>\n",
       "      <td>0</td>\n",
       "      <td>6</td>\n",
       "      <td>4</td>\n",
       "      <td>0</td>\n",
       "      <td>1</td>\n",
       "      <td>4</td>\n",
       "      <td>1</td>\n",
       "      <td>38</td>\n",
       "      <td>39</td>\n",
       "      <td>77516</td>\n",
       "      <td>13</td>\n",
       "      <td>2174</td>\n",
       "      <td>0</td>\n",
       "      <td>40</td>\n",
       "      <td>0</td>\n",
       "    </tr>\n",
       "    <tr>\n",
       "      <td>1</td>\n",
       "      <td>5</td>\n",
       "      <td>2</td>\n",
       "      <td>3</td>\n",
       "      <td>0</td>\n",
       "      <td>4</td>\n",
       "      <td>1</td>\n",
       "      <td>38</td>\n",
       "      <td>50</td>\n",
       "      <td>83311</td>\n",
       "      <td>13</td>\n",
       "      <td>0</td>\n",
       "      <td>0</td>\n",
       "      <td>13</td>\n",
       "      <td>0</td>\n",
       "    </tr>\n",
       "    <tr>\n",
       "      <td>2</td>\n",
       "      <td>3</td>\n",
       "      <td>0</td>\n",
       "      <td>5</td>\n",
       "      <td>1</td>\n",
       "      <td>4</td>\n",
       "      <td>1</td>\n",
       "      <td>38</td>\n",
       "      <td>38</td>\n",
       "      <td>215646</td>\n",
       "      <td>9</td>\n",
       "      <td>0</td>\n",
       "      <td>0</td>\n",
       "      <td>40</td>\n",
       "      <td>0</td>\n",
       "    </tr>\n",
       "    <tr>\n",
       "      <td>3</td>\n",
       "      <td>3</td>\n",
       "      <td>2</td>\n",
       "      <td>5</td>\n",
       "      <td>0</td>\n",
       "      <td>2</td>\n",
       "      <td>1</td>\n",
       "      <td>38</td>\n",
       "      <td>53</td>\n",
       "      <td>234721</td>\n",
       "      <td>7</td>\n",
       "      <td>0</td>\n",
       "      <td>0</td>\n",
       "      <td>40</td>\n",
       "      <td>0</td>\n",
       "    </tr>\n",
       "    <tr>\n",
       "      <td>4</td>\n",
       "      <td>3</td>\n",
       "      <td>2</td>\n",
       "      <td>9</td>\n",
       "      <td>5</td>\n",
       "      <td>2</td>\n",
       "      <td>0</td>\n",
       "      <td>4</td>\n",
       "      <td>28</td>\n",
       "      <td>338409</td>\n",
       "      <td>13</td>\n",
       "      <td>0</td>\n",
       "      <td>0</td>\n",
       "      <td>40</td>\n",
       "      <td>0</td>\n",
       "    </tr>\n",
       "    <tr>\n",
       "      <td>...</td>\n",
       "      <td>...</td>\n",
       "      <td>...</td>\n",
       "      <td>...</td>\n",
       "      <td>...</td>\n",
       "      <td>...</td>\n",
       "      <td>...</td>\n",
       "      <td>...</td>\n",
       "      <td>...</td>\n",
       "      <td>...</td>\n",
       "      <td>...</td>\n",
       "      <td>...</td>\n",
       "      <td>...</td>\n",
       "      <td>...</td>\n",
       "      <td>...</td>\n",
       "    </tr>\n",
       "    <tr>\n",
       "      <td>32556</td>\n",
       "      <td>3</td>\n",
       "      <td>2</td>\n",
       "      <td>12</td>\n",
       "      <td>5</td>\n",
       "      <td>4</td>\n",
       "      <td>0</td>\n",
       "      <td>38</td>\n",
       "      <td>27</td>\n",
       "      <td>257302</td>\n",
       "      <td>12</td>\n",
       "      <td>0</td>\n",
       "      <td>0</td>\n",
       "      <td>38</td>\n",
       "      <td>0</td>\n",
       "    </tr>\n",
       "    <tr>\n",
       "      <td>32557</td>\n",
       "      <td>3</td>\n",
       "      <td>2</td>\n",
       "      <td>6</td>\n",
       "      <td>0</td>\n",
       "      <td>4</td>\n",
       "      <td>1</td>\n",
       "      <td>38</td>\n",
       "      <td>40</td>\n",
       "      <td>154374</td>\n",
       "      <td>9</td>\n",
       "      <td>0</td>\n",
       "      <td>0</td>\n",
       "      <td>40</td>\n",
       "      <td>1</td>\n",
       "    </tr>\n",
       "    <tr>\n",
       "      <td>32558</td>\n",
       "      <td>3</td>\n",
       "      <td>6</td>\n",
       "      <td>0</td>\n",
       "      <td>4</td>\n",
       "      <td>4</td>\n",
       "      <td>0</td>\n",
       "      <td>38</td>\n",
       "      <td>58</td>\n",
       "      <td>151910</td>\n",
       "      <td>9</td>\n",
       "      <td>0</td>\n",
       "      <td>0</td>\n",
       "      <td>40</td>\n",
       "      <td>0</td>\n",
       "    </tr>\n",
       "    <tr>\n",
       "      <td>32559</td>\n",
       "      <td>3</td>\n",
       "      <td>4</td>\n",
       "      <td>0</td>\n",
       "      <td>3</td>\n",
       "      <td>4</td>\n",
       "      <td>1</td>\n",
       "      <td>38</td>\n",
       "      <td>22</td>\n",
       "      <td>201490</td>\n",
       "      <td>9</td>\n",
       "      <td>0</td>\n",
       "      <td>0</td>\n",
       "      <td>20</td>\n",
       "      <td>0</td>\n",
       "    </tr>\n",
       "    <tr>\n",
       "      <td>32560</td>\n",
       "      <td>4</td>\n",
       "      <td>2</td>\n",
       "      <td>3</td>\n",
       "      <td>5</td>\n",
       "      <td>4</td>\n",
       "      <td>0</td>\n",
       "      <td>38</td>\n",
       "      <td>52</td>\n",
       "      <td>287927</td>\n",
       "      <td>9</td>\n",
       "      <td>15024</td>\n",
       "      <td>0</td>\n",
       "      <td>40</td>\n",
       "      <td>1</td>\n",
       "    </tr>\n",
       "  </tbody>\n",
       "</table>\n",
       "<p>32561 rows × 14 columns</p>\n",
       "</div>"
      ],
      "text/plain": [
       "       workclass  marital status  occupation  relationship  race  sex  \\\n",
       "0              6               4           0             1     4    1   \n",
       "1              5               2           3             0     4    1   \n",
       "2              3               0           5             1     4    1   \n",
       "3              3               2           5             0     2    1   \n",
       "4              3               2           9             5     2    0   \n",
       "...          ...             ...         ...           ...   ...  ...   \n",
       "32556          3               2          12             5     4    0   \n",
       "32557          3               2           6             0     4    1   \n",
       "32558          3               6           0             4     4    0   \n",
       "32559          3               4           0             3     4    1   \n",
       "32560          4               2           3             5     4    0   \n",
       "\n",
       "       native country  age  fnlwgt  education_num  capital_gain  capital_loss  \\\n",
       "0                  38   39   77516             13          2174             0   \n",
       "1                  38   50   83311             13             0             0   \n",
       "2                  38   38  215646              9             0             0   \n",
       "3                  38   53  234721              7             0             0   \n",
       "4                   4   28  338409             13             0             0   \n",
       "...               ...  ...     ...            ...           ...           ...   \n",
       "32556              38   27  257302             12             0             0   \n",
       "32557              38   40  154374              9             0             0   \n",
       "32558              38   58  151910              9             0             0   \n",
       "32559              38   22  201490              9             0             0   \n",
       "32560              38   52  287927              9         15024             0   \n",
       "\n",
       "       hours_per_week  50k  \n",
       "0                  40    0  \n",
       "1                  13    0  \n",
       "2                  40    0  \n",
       "3                  40    0  \n",
       "4                  40    0  \n",
       "...               ...  ...  \n",
       "32556              38    0  \n",
       "32557              40    1  \n",
       "32558              40    0  \n",
       "32559              20    0  \n",
       "32560              40    1  \n",
       "\n",
       "[32561 rows x 14 columns]"
      ]
     },
     "execution_count": 74,
     "metadata": {},
     "output_type": "execute_result"
    }
   ],
   "source": [
    "NEW_df = pd.read_csv('encoding.csv') \n",
    "categoric_df = train_df_nan[['age','fnlwgt','education_num','capital_gain','capital_loss','hours_per_week','50k']]\n",
    "NEW_df =pd.concat([NEW_df, categoric_df], axis=1)\n",
    "NEW_df = NEW_df.drop('education',axis=1)\n",
    "NEW_df"
   ]
  },
  {
   "cell_type": "code",
   "execution_count": 75,
   "metadata": {},
   "outputs": [
    {
     "data": {
      "text/plain": [
       "1    24720\n",
       "0    24720\n",
       "Name: 50k, dtype: int64"
      ]
     },
     "execution_count": 75,
     "metadata": {},
     "output_type": "execute_result"
    }
   ],
   "source": [
    "#handle unbalanced data (boosting and bagging)\n",
    "#balancing the data\n",
    "\n",
    "from sklearn.utils import resample\n",
    "\n",
    "NEW_df['50k'].value_counts()\n",
    "rich=NEW_df.loc[train_df_nan['50k']==1]\n",
    "poor=NEW_df.loc[train_df_nan['50k']==0]\n",
    "NEW_df['50k'].value_counts()\n",
    "rich_upsample=resample(rich,replace=True,n_samples=len(poor),random_state=27)\n",
    "balancetrain=pd.concat([rich_upsample,poor],ignore_index=True)\n",
    "balancetrain['50k'].value_counts()\n",
    "\n",
    "\n"
   ]
  },
  {
   "cell_type": "code",
   "execution_count": null,
   "metadata": {},
   "outputs": [],
   "source": [
    "#normalization for continuous features"
   ]
  },
  {
   "cell_type": "code",
   "execution_count": null,
   "metadata": {},
   "outputs": [],
   "source": [
    "#algorithms: KNN/Naive Bayes/Random forest "
   ]
  },
  {
   "cell_type": "code",
   "execution_count": null,
   "metadata": {},
   "outputs": [],
   "source": []
  },
  {
   "cell_type": "code",
   "execution_count": null,
   "metadata": {},
   "outputs": [],
   "source": []
  },
  {
   "cell_type": "code",
   "execution_count": null,
   "metadata": {},
   "outputs": [],
   "source": []
  },
  {
   "cell_type": "code",
   "execution_count": null,
   "metadata": {},
   "outputs": [],
   "source": []
  },
  {
   "cell_type": "code",
   "execution_count": null,
   "metadata": {},
   "outputs": [],
   "source": []
  },
  {
   "cell_type": "code",
   "execution_count": null,
   "metadata": {},
   "outputs": [],
   "source": []
  },
  {
   "cell_type": "code",
   "execution_count": null,
   "metadata": {},
   "outputs": [],
   "source": []
  }
 ],
 "metadata": {
  "kernelspec": {
   "display_name": "Python 3",
   "language": "python",
   "name": "python3"
  },
  "language_info": {
   "codemirror_mode": {
    "name": "ipython",
    "version": 3
   },
   "file_extension": ".py",
   "mimetype": "text/x-python",
   "name": "python",
   "nbconvert_exporter": "python",
   "pygments_lexer": "ipython3",
   "version": "3.7.4"
  }
 },
 "nbformat": 4,
 "nbformat_minor": 2
}
