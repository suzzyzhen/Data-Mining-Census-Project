{
 "cells": [
  {
   "cell_type": "code",
   "execution_count": 3,
   "metadata": {},
   "outputs": [],
   "source": [
    "import pandas as pd\n",
    "import matplotlib.pyplot as plt\n",
    "import numpy as np\n",
    from sklearn.utils import resample
    "\n",
    
    "#add headers \n",
    "feature_names = ['age','workclass','fnlwgt','education','education_num','marital_status','occupation','relationship','race','sex','capital_gain','capital_loss','hours_per_week','native_country','50k']\n",
    "\n",
    "train_df_nan = pd.read_csv('/Users/suzannezhen/Documents/Data Mining /Project/census-income.data.csv .csv', names = feature_names) \n",
    "test_df_nan = pd.read_csv('/Users/suzannezhen/Documents/Data Mining /Project/census-income.test.csv .csv', names = feature_names)\n"
   ]
  },
  {
   "cell_type": "code",
   "execution_count": 4,
   "metadata": {},
   "outputs": [
    {
     "name": "stdout",
     "output_type": "stream",
     "text": [
      "The total number of instances in train data is 32561 with features 15\n",
      "The total number of instances in test data is 16281 with features 15\n"
     ]
    }
   ],
   "source": [
    "print('The total number of instances in train data is', len(train_df_nan), 'with features', len(train_df_nan.columns))\n",
    "print('The total number of instances in test data is', len(test_df_nan), 'with features', len(test_df_nan.columns))"
   ]
  },
  {
   "cell_type": "code",
   "execution_count": 5,
   "metadata": {},
   "outputs": [
    {
     "name": "stdout",
     "output_type": "stream",
     "text": [
      "0    24720\n",
      "1     7841\n",
      "Name: 50k, dtype: int64\n",
      "***less than 50k 0.759 ***More than 50k 0.241\n",
      "0    12435\n",
      "1     3846\n",
      "Name: 50k, dtype: int64\n",
      "***less than 50k 0.764 ***More than 50k 0.236\n"
     ]
    }
   ],
   "source": [
    "# replace '?' with nan values \n",
    "train_df_nan.replace(' ?', np.nan, inplace=True)\n",
    "test_df_nan.replace(' ?', np.nan, inplace=True)\n",
    "\n",
    "#replace the label column with '0' and '1', <=50k = 0; >50k = 1\n",
    "train_df_nan['50k'] = pd.get_dummies(train_df_nan).iloc[:,-1]\n",
    "test_df_nan['50k'] = pd.get_dummies(test_df_nan).iloc[:,-1]\n",
    "\n",
    "counts_train = train_df_nan['50k'].value_counts()\n",
    "counts_test = test_df_nan['50k'].value_counts()\n",
    "\n",
    "print(counts_train)\n",
    "print('***less than 50k',round(counts_train[0]/len(train_df_nan['50k']),3), '***More than 50k', round(counts_train[1]/len(train_df_nan['50k']),3))\n",
    "print(counts_test)\n",
    "print('***less than 50k',round(counts_test[0]/len(test_df_nan['50k']),3), '***More than 50k', round(counts_test[1]/len(test_df_nan['50k']),3))\n",
    "\n",
    "\n",
    "#print(train_df_nan.head(50))\n",
    "#print(test_df_nan.head(50))"
   ]
  },
  {
   "cell_type": "code",
   "execution_count": 6,
   "metadata": {
    "scrolled": true
   },
   "outputs": [
    {
     "name": "stdout",
     "output_type": "stream",
     "text": [
      "2399 train instances contain missing values\n",
      "age                  0\n",
      "workclass         1836\n",
      "fnlwgt               0\n",
      "education            0\n",
      "education_num        0\n",
      "marital_status       0\n",
      "occupation        1843\n",
      "relationship         0\n",
      "race                 0\n",
      "sex                  0\n",
      "capital_gain         0\n",
      "capital_loss         0\n",
      "hours_per_week       0\n",
      "native_country     583\n",
      "50k                  0\n",
      "dtype: int64\n",
      "1221 test instances contain missing values\n",
      "age                 0\n",
      "workclass         963\n",
      "fnlwgt              0\n",
      "education           0\n",
      "education_num       0\n",
      "marital_status      0\n",
      "occupation        966\n",
      "relationship        0\n",
      "race                0\n",
      "sex                 0\n",
      "capital_gain        0\n",
      "capital_loss        0\n",
      "hours_per_week      0\n",
      "native_country    274\n",
      "50k                 0\n",
      "dtype: int64\n"
     ]
    }
   ],
   "source": [
    "#count instances with nan values\n",
    "train_df = train_df_nan.dropna()\n",
    "print(len(train_df_nan) - len(train_df), 'train instances contain missing values')\n",
    "print(train_df_nan.isnull().sum())\n",
    "\n",
    "test_df = test_df_nan.dropna()\n",
    "print(len(test_df_nan) - len(test_df), 'test instances contain missing values')\n",
    "print(test_df_nan.isnull().sum())"
   ]
  },
  {
   "cell_type": "code",
   "execution_count": 18,
   "metadata": {},
   "outputs": [
    {
     "data": {
      "text/html": [
       "<div>\n",
       "<style scoped>\n",
       "    .dataframe tbody tr th:only-of-type {\n",
       "        vertical-align: middle;\n",
       "    }\n",
       "\n",
       "    .dataframe tbody tr th {\n",
       "        vertical-align: top;\n",
       "    }\n",
       "\n",
       "    .dataframe thead th {\n",
       "        text-align: right;\n",
       "    }\n",
       "</style>\n",
       "<table border=\"1\" class=\"dataframe\">\n",
       "  <thead>\n",
       "    <tr style=\"text-align: right;\">\n",
       "      <th></th>\n",
       "      <th>age</th>\n",
       "      <th>workclass</th>\n",
       "      <th>fnlwgt</th>\n",
       "      <th>education</th>\n",
       "      <th>education_num</th>\n",
       "      <th>marital_status</th>\n",
       "      <th>occupation</th>\n",
       "      <th>relationship</th>\n",
       "      <th>race</th>\n",
       "      <th>sex</th>\n",
       "      <th>capital_gain</th>\n",
       "      <th>capital_loss</th>\n",
       "      <th>hours_per_week</th>\n",
       "      <th>native_country</th>\n",
       "      <th>50k</th>\n",
       "    </tr>\n",
       "  </thead>\n",
       "  <tbody>\n",
       "    <tr>\n",
       "      <td>0</td>\n",
       "      <td>39</td>\n",
       "      <td>State-gov</td>\n",
       "      <td>77516</td>\n",
       "      <td>Bachelors</td>\n",
       "      <td>13</td>\n",
       "      <td>Never-married</td>\n",
       "      <td>Adm-clerical</td>\n",
       "      <td>Not-in-family</td>\n",
       "      <td>White</td>\n",
       "      <td>Male</td>\n",
       "      <td>2174</td>\n",
       "      <td>0</td>\n",
       "      <td>40</td>\n",
       "      <td>United-States</td>\n",
       "      <td>0</td>\n",
       "    </tr>\n",
       "    <tr>\n",
       "      <td>1</td>\n",
       "      <td>50</td>\n",
       "      <td>Self-emp-not-inc</td>\n",
       "      <td>83311</td>\n",
       "      <td>Bachelors</td>\n",
       "      <td>13</td>\n",
       "      <td>Married-civ-spouse</td>\n",
       "      <td>Exec-managerial</td>\n",
       "      <td>Husband</td>\n",
       "      <td>White</td>\n",
       "      <td>Male</td>\n",
       "      <td>0</td>\n",
       "      <td>0</td>\n",
       "      <td>13</td>\n",
       "      <td>United-States</td>\n",
       "      <td>0</td>\n",
       "    </tr>\n",
       "    <tr>\n",
       "      <td>2</td>\n",
       "      <td>38</td>\n",
       "      <td>Private</td>\n",
       "      <td>215646</td>\n",
       "      <td>HS-grad</td>\n",
       "      <td>9</td>\n",
       "      <td>Divorced</td>\n",
       "      <td>Handlers-cleaners</td>\n",
       "      <td>Not-in-family</td>\n",
       "      <td>White</td>\n",
       "      <td>Male</td>\n",
       "      <td>0</td>\n",
       "      <td>0</td>\n",
       "      <td>40</td>\n",
       "      <td>United-States</td>\n",
       "      <td>0</td>\n",
       "    </tr>\n",
       "    <tr>\n",
       "      <td>3</td>\n",
       "      <td>53</td>\n",
       "      <td>Private</td>\n",
       "      <td>234721</td>\n",
       "      <td>11th</td>\n",
       "      <td>7</td>\n",
       "      <td>Married-civ-spouse</td>\n",
       "      <td>Handlers-cleaners</td>\n",
       "      <td>Husband</td>\n",
       "      <td>Black</td>\n",
       "      <td>Male</td>\n",
       "      <td>0</td>\n",
       "      <td>0</td>\n",
       "      <td>40</td>\n",
       "      <td>United-States</td>\n",
       "      <td>0</td>\n",
       "    </tr>\n",
       "    <tr>\n",
       "      <td>4</td>\n",
       "      <td>28</td>\n",
       "      <td>Private</td>\n",
       "      <td>338409</td>\n",
       "      <td>Bachelors</td>\n",
       "      <td>13</td>\n",
       "      <td>Married-civ-spouse</td>\n",
       "      <td>Prof-specialty</td>\n",
       "      <td>Wife</td>\n",
       "      <td>Black</td>\n",
       "      <td>Female</td>\n",
       "      <td>0</td>\n",
       "      <td>0</td>\n",
       "      <td>40</td>\n",
       "      <td>Cuba</td>\n",
       "      <td>0</td>\n",
       "    </tr>\n",
       "  </tbody>\n",
       "</table>\n",
       "</div>"
      ],
      "text/plain": [
       "   age          workclass  fnlwgt   education  education_num  \\\n",
       "0   39          State-gov   77516   Bachelors             13   \n",
       "1   50   Self-emp-not-inc   83311   Bachelors             13   \n",
       "2   38            Private  215646     HS-grad              9   \n",
       "3   53            Private  234721        11th              7   \n",
       "4   28            Private  338409   Bachelors             13   \n",
       "\n",
       "        marital_status          occupation    relationship    race      sex  \\\n",
       "0        Never-married        Adm-clerical   Not-in-family   White     Male   \n",
       "1   Married-civ-spouse     Exec-managerial         Husband   White     Male   \n",
       "2             Divorced   Handlers-cleaners   Not-in-family   White     Male   \n",
       "3   Married-civ-spouse   Handlers-cleaners         Husband   Black     Male   \n",
       "4   Married-civ-spouse      Prof-specialty            Wife   Black   Female   \n",
       "\n",
       "   capital_gain  capital_loss  hours_per_week  native_country  50k  \n",
       "0          2174             0              40   United-States    0  \n",
       "1             0             0              13   United-States    0  \n",
       "2             0             0              40   United-States    0  \n",
       "3             0             0              40   United-States    0  \n",
       "4             0             0              40            Cuba    0  "
      ]
     },
     "execution_count": 18,
     "metadata": {},
     "output_type": "execute_result"
    }
   ],
   "source": [
    "train_df_nan.head()"
   ]
  },
  {
   "cell_type": "code",
   "execution_count": 7,
   "metadata": {},
   "outputs": [],
   "source": [
    "#use mode or KNN to fill missing values (pick two to three methods)\n",
    "\n",
    "#fillna with mode \n",
    "\n",
    "#print(train_df_nan['workclass'].value_counts(dropna=False).head())\n",
    "#print(train_df_nan['occupation'].value_counts(dropna=False).head())\n",
    "#print(train_df_nan['native_country'].value_counts(dropna=False).head())\n",
    "\n",
    "train_df_nan['workclass'].fillna(train_df_nan['workclass'].mode()[0],inplace=True)\n",
    "train_df_nan['occupation'].fillna(value ='Other-service', inplace=True)      #replace NaN occupation with other services\n",
    "train_df_nan['native_country'].fillna(train_df_nan['native_country'].mode()[0],inplace=True)\n",
    "\n",
    "#print('*'*100, train_df_nan.isnull().sum())\n",
    "\n",
    "\n",
    "#print(test_df_nan['workclass'].value_counts(dropna=False).head())\n",
    "#print(test_df_nan['occupation'].value_counts(dropna=False).head(10))\n",
    "#print(test_df_nan['native_country'].value_counts(dropna=False).head())\n",
    "\n",
    "\n",
    "test_df_nan['workclass'].fillna(test_df_nan['workclass'].mode()[0],inplace=True)\n",
    "test_df_nan['occupation'].fillna(value ='Other-service', inplace=True)      #replace NaN occupation with other services\n",
    "test_df_nan['native_country'].fillna(test_df_nan['native_country'].mode()[0],inplace=True)\n",
    "\n",
    "\n",
    "#print('*'*100, test_df_nan.isnull().sum())\n"
   ]
  },
  {
   "cell_type": "code",
   "execution_count": 11,
   "metadata": {},
   "outputs": [],
   "source": [
    "#normalization for continuous features\n"
   ]
  },
  {
   "cell_type": "code",
   "execution_count": 13,
   "metadata": {},
   "outputs": [],
   "source": [
    "#transform categorical data into numeric data (encoder and one hot encoder)"
   ]
  },
  {
   "cell_type": "code",
   "execution_count": null,
   "metadata": {},
   "outputs": [],
   "source": [
    "#handle unbalanced data (boosting and bagging)"
   ]
  },
  {
   "cell_type": "code",
   "execution_count": null,
   "metadata": {},
   "outputs": [],
   "source": [
    "#algorithms: KNN/Naive Bayes/Random forest "
   ]
  },
  {
   "cell_type": "code",
   "execution_count": null,
   "metadata": {},
   "outputs": [],
   "source": []
  },
  {
   "cell_type": "code",
   "execution_count": null,
   "metadata": {},
   "outputs": [],
   "source": []
  },
  {
   "cell_type": "code",
   "execution_count": null,
   "metadata": {},
   "outputs": [],
   "source": []
  },
  {
   "cell_type": "code",
   "execution_count": null,
   "metadata": {},
   "outputs": [],
   "source": []
  },
  {
   "cell_type": "code",
   "execution_count": null,
   "metadata": {},
   "outputs": [],
   "source": [
    "#plt.scatter(test_df_nan[:,0], test_df_nan[:,1], s=10)"
   ]
  },
  {
   "cell_type": "code",
   "execution_count": null,
   "metadata": {},
   "outputs": [],
   "source": []
  },
  {
   "cell_type": "code",
   "execution_count": null,
   "metadata": {},
   "outputs": [],
   "source": []
  },
  {
   "cell_type": "code",
   "execution_count": null,
   "metadata": {},
   "outputs": [],
   "source": []
  },
  {
   "cell_type": "code",
   "execution_count": null,
   "metadata": {},
   "outputs": [],
   "source": []
  }
 ],
 "metadata": {
  "kernelspec": {
   "display_name": "Python 3",
   "language": "python",
   "name": "python3"
  },
  "language_info": {
   "codemirror_mode": {
    "name": "ipython",
    "version": 3
   },
   "file_extension": ".py",
   "mimetype": "text/x-python",
   "name": "python",
   "nbconvert_exporter": "python",
   "pygments_lexer": "ipython3",
   "version": "3.7.4"
  }
 },
 "nbformat": 4,
 "nbformat_minor": 2
}
